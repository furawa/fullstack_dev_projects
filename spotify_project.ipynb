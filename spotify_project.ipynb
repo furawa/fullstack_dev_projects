{
 "cells": [
  {
   "cell_type": "code",
   "execution_count": 1,
   "id": "natural-ownership",
   "metadata": {},
   "outputs": [],
   "source": [
    "import pandas as pd\n",
    "import numpy as np\n",
    "import seaborn as sb\n",
    "import matplotlib.pyplot as plt"
   ]
  },
  {
   "cell_type": "code",
   "execution_count": 4,
   "id": "different-stadium",
   "metadata": {},
   "outputs": [
    {
     "name": "stdout",
     "output_type": "stream",
     "text": [
      "<class 'pandas.core.frame.DataFrame'>\n",
      "RangeIndex: 1556 entries, 0 to 1555\n",
      "Data columns (total 23 columns):\n",
      " #   Column                     Non-Null Count  Dtype \n",
      "---  ------                     --------------  ----- \n",
      " 0   Index                      1556 non-null   int64 \n",
      " 1   Highest Charting Position  1556 non-null   int64 \n",
      " 2   Number of Times Charted    1556 non-null   int64 \n",
      " 3   Week of Highest Charting   1556 non-null   object\n",
      " 4   Song Name                  1556 non-null   object\n",
      " 5   Streams                    1556 non-null   object\n",
      " 6   Artist                     1556 non-null   object\n",
      " 7   Artist Followers           1556 non-null   object\n",
      " 8   Song ID                    1556 non-null   object\n",
      " 9   Genre                      1556 non-null   object\n",
      " 10  Release Date               1556 non-null   object\n",
      " 11  Weeks Charted              1556 non-null   object\n",
      " 12  Popularity                 1556 non-null   object\n",
      " 13  Danceability               1556 non-null   object\n",
      " 14  Energy                     1556 non-null   object\n",
      " 15  Loudness                   1556 non-null   object\n",
      " 16  Speechiness                1556 non-null   object\n",
      " 17  Acousticness               1556 non-null   object\n",
      " 18  Liveness                   1556 non-null   object\n",
      " 19  Tempo                      1556 non-null   object\n",
      " 20  Duration (ms)              1556 non-null   object\n",
      " 21  Valence                    1556 non-null   object\n",
      " 22  Chord                      1556 non-null   object\n",
      "dtypes: int64(3), object(20)\n",
      "memory usage: 279.7+ KB\n"
     ]
    }
   ],
   "source": [
    "# Read the file \n",
    "data = pd.read_csv(\"files/spotify_dataset.csv\")\n",
    "data.info()"
   ]
  }
 ],
 "metadata": {
  "kernelspec": {
   "display_name": "Python 3.9.2 64-bit ('sales': conda)",
   "language": "python",
   "name": "python392jvsc74a57bd0870be2d50b184e864be4af6ba2e49f6a61458d1dcc080c7217f8255df4256e2f"
  },
  "language_info": {
   "codemirror_mode": {
    "name": "ipython",
    "version": 3
   },
   "file_extension": ".py",
   "mimetype": "text/x-python",
   "name": "python",
   "nbconvert_exporter": "python",
   "pygments_lexer": "ipython3",
   "version": "3.9.2"
  }
 },
 "nbformat": 4,
 "nbformat_minor": 5
}
