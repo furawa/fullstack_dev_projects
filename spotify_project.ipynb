{
 "cells": [
  {
   "cell_type": "code",
   "execution_count": 1,
   "id": "natural-ownership",
   "metadata": {},
   "outputs": [],
   "source": [
    "import pandas as pd\n",
    "import numpy as np\n",
    "import seaborn as sb\n",
    "import matplotlib.pyplot as plt"
   ]
  },
  {
   "cell_type": "code",
   "execution_count": 2,
   "id": "different-stadium",
   "metadata": {},
   "outputs": [
    {
     "data": {
      "text/html": [
       "<div>\n",
       "<style scoped>\n",
       "    .dataframe tbody tr th:only-of-type {\n",
       "        vertical-align: middle;\n",
       "    }\n",
       "\n",
       "    .dataframe tbody tr th {\n",
       "        vertical-align: top;\n",
       "    }\n",
       "\n",
       "    .dataframe thead th {\n",
       "        text-align: right;\n",
       "    }\n",
       "</style>\n",
       "<table border=\"1\" class=\"dataframe\">\n",
       "  <thead>\n",
       "    <tr style=\"text-align: right;\">\n",
       "      <th></th>\n",
       "      <th>Index</th>\n",
       "      <th>Highest Charting Position</th>\n",
       "      <th>Number of Times Charted</th>\n",
       "      <th>Week of Highest Charting</th>\n",
       "      <th>Song Name</th>\n",
       "      <th>Streams</th>\n",
       "      <th>Artist</th>\n",
       "      <th>Artist Followers</th>\n",
       "      <th>Song ID</th>\n",
       "      <th>Genre</th>\n",
       "      <th>...</th>\n",
       "      <th>Danceability</th>\n",
       "      <th>Energy</th>\n",
       "      <th>Loudness</th>\n",
       "      <th>Speechiness</th>\n",
       "      <th>Acousticness</th>\n",
       "      <th>Liveness</th>\n",
       "      <th>Tempo</th>\n",
       "      <th>Duration (ms)</th>\n",
       "      <th>Valence</th>\n",
       "      <th>Chord</th>\n",
       "    </tr>\n",
       "  </thead>\n",
       "  <tbody>\n",
       "    <tr>\n",
       "      <th>0</th>\n",
       "      <td>1</td>\n",
       "      <td>1</td>\n",
       "      <td>8</td>\n",
       "      <td>2021-07-23--2021-07-30</td>\n",
       "      <td>Beggin'</td>\n",
       "      <td>48,633,449</td>\n",
       "      <td>Måneskin</td>\n",
       "      <td>3377762</td>\n",
       "      <td>3Wrjm47oTz2sjIgck11l5e</td>\n",
       "      <td>['indie rock italiano', 'italian pop']</td>\n",
       "      <td>...</td>\n",
       "      <td>0.714</td>\n",
       "      <td>0.8</td>\n",
       "      <td>-4.808</td>\n",
       "      <td>0.0504</td>\n",
       "      <td>0.127</td>\n",
       "      <td>0.359</td>\n",
       "      <td>134.002</td>\n",
       "      <td>211560</td>\n",
       "      <td>0.589</td>\n",
       "      <td>B</td>\n",
       "    </tr>\n",
       "    <tr>\n",
       "      <th>1</th>\n",
       "      <td>2</td>\n",
       "      <td>2</td>\n",
       "      <td>3</td>\n",
       "      <td>2021-07-23--2021-07-30</td>\n",
       "      <td>STAY (with Justin Bieber)</td>\n",
       "      <td>47,248,719</td>\n",
       "      <td>The Kid LAROI</td>\n",
       "      <td>2230022</td>\n",
       "      <td>5HCyWlXZPP0y6Gqq8TgA20</td>\n",
       "      <td>['australian hip hop']</td>\n",
       "      <td>...</td>\n",
       "      <td>0.591</td>\n",
       "      <td>0.764</td>\n",
       "      <td>-5.484</td>\n",
       "      <td>0.0483</td>\n",
       "      <td>0.0383</td>\n",
       "      <td>0.103</td>\n",
       "      <td>169.928</td>\n",
       "      <td>141806</td>\n",
       "      <td>0.478</td>\n",
       "      <td>C#/Db</td>\n",
       "    </tr>\n",
       "    <tr>\n",
       "      <th>2</th>\n",
       "      <td>3</td>\n",
       "      <td>1</td>\n",
       "      <td>11</td>\n",
       "      <td>2021-06-25--2021-07-02</td>\n",
       "      <td>good 4 u</td>\n",
       "      <td>40,162,559</td>\n",
       "      <td>Olivia Rodrigo</td>\n",
       "      <td>6266514</td>\n",
       "      <td>4ZtFanR9U6ndgddUvNcjcG</td>\n",
       "      <td>['pop']</td>\n",
       "      <td>...</td>\n",
       "      <td>0.563</td>\n",
       "      <td>0.664</td>\n",
       "      <td>-5.044</td>\n",
       "      <td>0.154</td>\n",
       "      <td>0.335</td>\n",
       "      <td>0.0849</td>\n",
       "      <td>166.928</td>\n",
       "      <td>178147</td>\n",
       "      <td>0.688</td>\n",
       "      <td>A</td>\n",
       "    </tr>\n",
       "    <tr>\n",
       "      <th>3</th>\n",
       "      <td>4</td>\n",
       "      <td>3</td>\n",
       "      <td>5</td>\n",
       "      <td>2021-07-02--2021-07-09</td>\n",
       "      <td>Bad Habits</td>\n",
       "      <td>37,799,456</td>\n",
       "      <td>Ed Sheeran</td>\n",
       "      <td>83293380</td>\n",
       "      <td>6PQ88X9TkUIAUIZJHW2upE</td>\n",
       "      <td>['pop', 'uk pop']</td>\n",
       "      <td>...</td>\n",
       "      <td>0.808</td>\n",
       "      <td>0.897</td>\n",
       "      <td>-3.712</td>\n",
       "      <td>0.0348</td>\n",
       "      <td>0.0469</td>\n",
       "      <td>0.364</td>\n",
       "      <td>126.026</td>\n",
       "      <td>231041</td>\n",
       "      <td>0.591</td>\n",
       "      <td>B</td>\n",
       "    </tr>\n",
       "    <tr>\n",
       "      <th>4</th>\n",
       "      <td>5</td>\n",
       "      <td>5</td>\n",
       "      <td>1</td>\n",
       "      <td>2021-07-23--2021-07-30</td>\n",
       "      <td>INDUSTRY BABY (feat. Jack Harlow)</td>\n",
       "      <td>33,948,454</td>\n",
       "      <td>Lil Nas X</td>\n",
       "      <td>5473565</td>\n",
       "      <td>27NovPIUIRrOZoCHxABJwK</td>\n",
       "      <td>['lgbtq+ hip hop', 'pop rap']</td>\n",
       "      <td>...</td>\n",
       "      <td>0.736</td>\n",
       "      <td>0.704</td>\n",
       "      <td>-7.409</td>\n",
       "      <td>0.0615</td>\n",
       "      <td>0.0203</td>\n",
       "      <td>0.0501</td>\n",
       "      <td>149.995</td>\n",
       "      <td>212000</td>\n",
       "      <td>0.894</td>\n",
       "      <td>D#/Eb</td>\n",
       "    </tr>\n",
       "  </tbody>\n",
       "</table>\n",
       "<p>5 rows × 23 columns</p>\n",
       "</div>"
      ],
      "text/plain": [
       "   Index  Highest Charting Position  Number of Times Charted  \\\n",
       "0      1                          1                        8   \n",
       "1      2                          2                        3   \n",
       "2      3                          1                       11   \n",
       "3      4                          3                        5   \n",
       "4      5                          5                        1   \n",
       "\n",
       "  Week of Highest Charting                          Song Name     Streams  \\\n",
       "0   2021-07-23--2021-07-30                            Beggin'  48,633,449   \n",
       "1   2021-07-23--2021-07-30          STAY (with Justin Bieber)  47,248,719   \n",
       "2   2021-06-25--2021-07-02                           good 4 u  40,162,559   \n",
       "3   2021-07-02--2021-07-09                         Bad Habits  37,799,456   \n",
       "4   2021-07-23--2021-07-30  INDUSTRY BABY (feat. Jack Harlow)  33,948,454   \n",
       "\n",
       "           Artist Artist Followers                 Song ID  \\\n",
       "0        Måneskin          3377762  3Wrjm47oTz2sjIgck11l5e   \n",
       "1   The Kid LAROI          2230022  5HCyWlXZPP0y6Gqq8TgA20   \n",
       "2  Olivia Rodrigo          6266514  4ZtFanR9U6ndgddUvNcjcG   \n",
       "3      Ed Sheeran         83293380  6PQ88X9TkUIAUIZJHW2upE   \n",
       "4       Lil Nas X          5473565  27NovPIUIRrOZoCHxABJwK   \n",
       "\n",
       "                                    Genre  ... Danceability Energy Loudness  \\\n",
       "0  ['indie rock italiano', 'italian pop']  ...        0.714    0.8   -4.808   \n",
       "1                  ['australian hip hop']  ...        0.591  0.764   -5.484   \n",
       "2                                 ['pop']  ...        0.563  0.664   -5.044   \n",
       "3                       ['pop', 'uk pop']  ...        0.808  0.897   -3.712   \n",
       "4           ['lgbtq+ hip hop', 'pop rap']  ...        0.736  0.704   -7.409   \n",
       "\n",
       "  Speechiness Acousticness Liveness    Tempo Duration (ms) Valence  Chord  \n",
       "0      0.0504        0.127    0.359  134.002        211560   0.589      B  \n",
       "1      0.0483       0.0383    0.103  169.928        141806   0.478  C#/Db  \n",
       "2       0.154        0.335   0.0849  166.928        178147   0.688      A  \n",
       "3      0.0348       0.0469    0.364  126.026        231041   0.591      B  \n",
       "4      0.0615       0.0203   0.0501  149.995        212000   0.894  D#/Eb  \n",
       "\n",
       "[5 rows x 23 columns]"
      ]
     },
     "execution_count": 2,
     "metadata": {},
     "output_type": "execute_result"
    }
   ],
   "source": [
    "# Read the file \n",
    "df = pd.read_csv(\"files/spotify_dataset.csv\")\n",
    "df.head()"
   ]
  },
  {
   "cell_type": "markdown",
   "id": "regular-battle",
   "metadata": {},
   "source": [
    "From the columns description in [kaggle](https://www.kaggle.com/sashankpillai/spotify-top-200-charts-20202021), some columns' data type is to change. Let's first change the columns name for easier use. "
   ]
  },
  {
   "cell_type": "code",
   "execution_count": 3,
   "id": "extended-greensboro",
   "metadata": {},
   "outputs": [],
   "source": [
    "# Define a function to rename a given column. Lowercase + underscored\n",
    "def rename_column(col_name):\n",
    "    list_col_name = col_name.lower().split(\" \") # Turn the col name in a list of col names in lowercase\n",
    "    rename_col = \"_\".join(list_col_name) # Join back the lowercase names with underscore\n",
    "    return rename_col"
   ]
  },
  {
   "cell_type": "code",
   "execution_count": 4,
   "id": "ambient-ferry",
   "metadata": {},
   "outputs": [
    {
     "data": {
      "text/plain": [
       "Index(['index', 'highest_charting_position', 'number_of_times_charted',\n",
       "       'week_of_highest_charting', 'song_name', 'streams', 'artist',\n",
       "       'artist_followers', 'song_id', 'genre', 'release_date', 'weeks_charted',\n",
       "       'popularity', 'danceability', 'energy', 'loudness', 'speechiness',\n",
       "       'acousticness', 'liveness', 'tempo', 'duration_(ms)', 'valence',\n",
       "       'chord'],\n",
       "      dtype='object')"
      ]
     },
     "execution_count": 4,
     "metadata": {},
     "output_type": "execute_result"
    }
   ],
   "source": [
    "# Rename all the columns of the dataframe\n",
    "df_clean = df.copy() # Deep copy of the dataframe\n",
    "renamed_cols = list(map(rename_column, list(df.columns))) # Create a list of the renamed columns\n",
    "df_clean.columns = renamed_cols # Change the old column names with the new ones\n",
    "df_clean.columns"
   ]
  },
  {
   "cell_type": "markdown",
   "id": "selective-mailing",
   "metadata": {},
   "source": [
    "The week of highest charting is supposed to be a date. We will keep just the starting date, as we know that the end week will be after 7 days from the start."
   ]
  },
  {
   "cell_type": "code",
   "execution_count": 5,
   "id": "opposite-tournament",
   "metadata": {},
   "outputs": [],
   "source": [
    "# Split the two dates and keep the first one\n",
    "df_clean.week_of_highest_charting = df_clean.week_of_highest_charting.apply(lambda x: x.split(\"--\")[0])\n",
    "# Change the data type from String to date\n",
    "df_clean.week_of_highest_charting = df_clean.week_of_highest_charting.astype(\"datetime64\")"
   ]
  },
  {
   "cell_type": "code",
   "execution_count": 6,
   "id": "important-deviation",
   "metadata": {},
   "outputs": [],
   "source": [
    "# Check if the data type is correct, no output means it is correct\n",
    "assert df_clean.week_of_highest_charting.dtype == np.dtype('datetime64[ns]')"
   ]
  },
  {
   "cell_type": "markdown",
   "id": "vocational-accounting",
   "metadata": {},
   "source": [
    "The streams are to change in integer"
   ]
  },
  {
   "cell_type": "code",
   "execution_count": 23,
   "id": "coupled-benjamin",
   "metadata": {},
   "outputs": [],
   "source": [
    "# Change the streams column from String to integer\n",
    "df_clean.streams = df_clean.streams.apply(lambda x: \"\".join(x.split(\",\"))).astype(\"int64\")"
   ]
  },
  {
   "cell_type": "code",
   "execution_count": 32,
   "id": "dried-andrew",
   "metadata": {},
   "outputs": [],
   "source": [
    "# Check the streams column is the correct data type, no output means is correct\n",
    "assert df_clean.streams.dtype == \"int64\""
   ]
  },
  {
   "cell_type": "code",
   "execution_count": 47,
   "id": "acknowledged-suggestion",
   "metadata": {},
   "outputs": [],
   "source": [
    "# Change artist followers from String to int. First we need to imput the empty values to 0. \n",
    "df_clean.artist_followers = df_clean.artist_followers.apply(lambda x: 0 if x == \" \" else x).astype(\"int64\")"
   ]
  },
  {
   "cell_type": "code",
   "execution_count": 59,
   "id": "disturbed-wrapping",
   "metadata": {},
   "outputs": [],
   "source": [
    "# Assert artist follower is the correct data type\n",
    "assert df_clean.artist_followers.dtype == \"int64\""
   ]
  },
  {
   "cell_type": "markdown",
   "id": "hungry-protein",
   "metadata": {},
   "source": [
    "Turn release date into datetime"
   ]
  },
  {
   "cell_type": "code",
   "execution_count": 80,
   "id": "architectural-wells",
   "metadata": {},
   "outputs": [],
   "source": [
    "# Function to imput the correct date values\n",
    "def input_date(date_value):\n",
    "    if date_value == \" \": # If the value is empty we put nan\n",
    "        date_value = np.nan\n",
    "    elif len(date_value) == 4: # If the value is just the year we put month and day \n",
    "        date_value += \"-01-01\"\n",
    "    elif len(date_value) == 7: # If the value is just the year and the month we put the day\n",
    "        date_value += \"-01\"\n",
    "    return date_value"
   ]
  },
  {
   "cell_type": "code",
   "execution_count": 81,
   "id": "threaded-twenty",
   "metadata": {},
   "outputs": [],
   "source": [
    "# Convert the release date column into datetime\n",
    "df_clean.release_date = df_clean.release_date.apply(input_date).astype(\"datetime64\")"
   ]
  },
  {
   "cell_type": "code",
   "execution_count": 83,
   "id": "operational-interval",
   "metadata": {},
   "outputs": [],
   "source": [
    "# Check if the data type is correct for release_date\n",
    "assert df_clean.release_date.dtype == np.dtype(\"datetime64[ns]\")"
   ]
  },
  {
   "cell_type": "markdown",
   "id": "incorporated-disposal",
   "metadata": {},
   "source": [
    "Turn Popularity into integer data type"
   ]
  },
  {
   "cell_type": "code",
   "execution_count": 94,
   "id": "occasional-school",
   "metadata": {},
   "outputs": [],
   "source": [
    "# Imput empty values before changing the datatype\n",
    "df_clean.popularity = df_clean.popularity.apply(lambda x : 0 if x == \" \" else x).astype(\"int64\")"
   ]
  },
  {
   "cell_type": "code",
   "execution_count": 95,
   "id": "attended-dairy",
   "metadata": {},
   "outputs": [],
   "source": [
    "assert df_clean.popularity.dtypes == \"int64\""
   ]
  },
  {
   "cell_type": "code",
   "execution_count": 126,
   "id": "purple-windsor",
   "metadata": {},
   "outputs": [],
   "source": [
    "# Select danceability, energy, loudness, speechiness, acousticness, liveness and tempo, turn them into float\n",
    "cols = list(df_clean.iloc[:, 13:20].columns)\n",
    "for col in cols:\n",
    "    df_clean[col] = df_clean[col].apply(lambda x: np.nan if x == \" \" else x).astype(\"float64\")"
   ]
  },
  {
   "cell_type": "code",
   "execution_count": 127,
   "id": "wireless-carter",
   "metadata": {},
   "outputs": [
    {
     "name": "stdout",
     "output_type": "stream",
     "text": [
      "<class 'pandas.core.frame.DataFrame'>\n",
      "RangeIndex: 1556 entries, 0 to 1555\n",
      "Data columns (total 7 columns):\n",
      " #   Column        Non-Null Count  Dtype  \n",
      "---  ------        --------------  -----  \n",
      " 0   danceability  1545 non-null   float64\n",
      " 1   energy        1545 non-null   float64\n",
      " 2   loudness      1545 non-null   float64\n",
      " 3   speechiness   1545 non-null   float64\n",
      " 4   acousticness  1545 non-null   float64\n",
      " 5   liveness      1545 non-null   float64\n",
      " 6   tempo         1545 non-null   float64\n",
      "dtypes: float64(7)\n",
      "memory usage: 85.2 KB\n"
     ]
    }
   ],
   "source": [
    "# Check the data type of the columns we just change\n",
    "df_clean.iloc[:, 13:20].info()"
   ]
  },
  {
   "cell_type": "code",
   "execution_count": 145,
   "id": "missing-thesaurus",
   "metadata": {},
   "outputs": [],
   "source": [
    "# Turn duration into integer\n",
    "df_clean[\"duration_(ms)\"] = df_clean[\"duration_(ms)\"].apply(lambda x: 0 if x == \" \" else x).astype(\"int64\")\n",
    "# Imput the 0 values to be the average of the durations\n",
    "duration_mean = int(np.mean(df_clean[\"duration_(ms)\"])) # compute the mean, save it as an integerb\n",
    "df_clean[\"duration_(ms)\"] = df_clean[\"duration_(ms)\"].apply(lambda x : duration_mean if x == 0 else x)"
   ]
  },
  {
   "cell_type": "code",
   "execution_count": 144,
   "id": "accepted-factory",
   "metadata": {},
   "outputs": [
    {
     "data": {
      "text/plain": [
       "0       211560\n",
       "1       141806\n",
       "2       178147\n",
       "3       231041\n",
       "4       212000\n",
       "         ...  \n",
       "1551    209320\n",
       "1552    181930\n",
       "1553    217307\n",
       "1554    152784\n",
       "1555    221307\n",
       "Name: duration_(ms), Length: 1556, dtype: int64"
      ]
     },
     "execution_count": 144,
     "metadata": {},
     "output_type": "execute_result"
    }
   ],
   "source": [
    "df_clean[\"duration_(ms)\"]"
   ]
  },
  {
   "cell_type": "code",
   "execution_count": 149,
   "id": "awful-rider",
   "metadata": {},
   "outputs": [],
   "source": [
    "# Change the valence column to the correct data type\n",
    "df_clean.valence = df_clean.valence.apply(lambda x: np.nan if x == \" \" else x).astype(\"float64\")"
   ]
  },
  {
   "cell_type": "code",
   "execution_count": 150,
   "id": "cardiovascular-paste",
   "metadata": {},
   "outputs": [],
   "source": [
    "assert df_clean.valence.dtypes == \"float64\""
   ]
  },
  {
   "cell_type": "code",
   "execution_count": 154,
   "id": "amended-michigan",
   "metadata": {},
   "outputs": [
    {
     "data": {
      "text/plain": [
       "array(['B', 'C#/Db', 'A', 'D#/Eb', 'G#/Ab', 'F#/Gb', 'C', 'D', 'A#/Bb',\n",
       "       'G', 'E', 'F', ' '], dtype=object)"
      ]
     },
     "execution_count": 154,
     "metadata": {},
     "output_type": "execute_result"
    }
   ],
   "source": [
    "# Change the chord column to the correct data type\n",
    "df_clean.chord.unique()"
   ]
  },
  {
   "cell_type": "code",
   "execution_count": 158,
   "id": "sufficient-uruguay",
   "metadata": {},
   "outputs": [],
   "source": [
    "# Replace the empty values with unknown\n",
    "df_clean.chord.replace(\" \", \"UNKNOWN\", inplace = True)\n",
    "# Turn chord column into category datatype\n",
    "df_clean.chord = df_clean.chord.astype"
   ]
  },
  {
   "cell_type": "code",
   "execution_count": null,
   "id": "hispanic-valuation",
   "metadata": {},
   "outputs": [],
   "source": []
  }
 ],
 "metadata": {
  "kernelspec": {
   "display_name": "Python 3.9.2 64-bit ('sales': conda)",
   "language": "python",
   "name": "python392jvsc74a57bd0870be2d50b184e864be4af6ba2e49f6a61458d1dcc080c7217f8255df4256e2f"
  },
  "language_info": {
   "codemirror_mode": {
    "name": "ipython",
    "version": 3
   },
   "file_extension": ".py",
   "mimetype": "text/x-python",
   "name": "python",
   "nbconvert_exporter": "python",
   "pygments_lexer": "ipython3",
   "version": "3.9.2"
  }
 },
 "nbformat": 4,
 "nbformat_minor": 5
}
